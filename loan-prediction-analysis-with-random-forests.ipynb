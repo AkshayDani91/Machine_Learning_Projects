{
 "cells": [
  {
   "cell_type": "markdown",
   "id": "7b466afa",
   "metadata": {
    "papermill": {
     "duration": 0.051394,
     "end_time": "2022-01-11T11:21:13.819167",
     "exception": false,
     "start_time": "2022-01-11T11:21:13.767773",
     "status": "completed"
    },
    "tags": []
   },
   "source": [
    "# **Loan Prediction Problem**"
   ]
  },
  {
   "cell_type": "markdown",
   "id": "1ae0274a",
   "metadata": {
    "papermill": {
     "duration": 0.047865,
     "end_time": "2022-01-11T11:21:13.915306",
     "exception": false,
     "start_time": "2022-01-11T11:21:13.867441",
     "status": "completed"
    },
    "tags": []
   },
   "source": [
    "A Finance company wants to automate the loan eligibility process based on the customer details provided while filling application form. These details are Gender,Marital Status, Education, Number of Dependents, Income, Loan Amount, Credit History and others. To automate this process, they have given a problem to identify the customers segments, those are eligible for loan amount so that they can specifically target these customers."
   ]
  },
  {
   "cell_type": "markdown",
   "id": "a36fb20c",
   "metadata": {
    "papermill": {
     "duration": 0.047787,
     "end_time": "2022-01-11T11:21:14.010943",
     "exception": false,
     "start_time": "2022-01-11T11:21:13.963156",
     "status": "completed"
    },
    "tags": []
   },
   "source": [
    "# Import Libraries"
   ]
  },
  {
   "cell_type": "code",
   "execution_count": 1,
   "id": "9381a5dd",
   "metadata": {
    "_cell_guid": "b1076dfc-b9ad-4769-8c92-a6c4dae69d19",
    "_uuid": "8f2839f25d086af736a60e9eeb907d3b93b6e0e5",
    "execution": {
     "iopub.execute_input": "2022-01-11T11:21:14.120418Z",
     "iopub.status.busy": "2022-01-11T11:21:14.119504Z",
     "iopub.status.idle": "2022-01-11T11:21:15.325971Z",
     "shell.execute_reply": "2022-01-11T11:21:15.326559Z",
     "shell.execute_reply.started": "2022-01-11T11:00:29.919819Z"
    },
    "papermill": {
     "duration": 1.268171,
     "end_time": "2022-01-11T11:21:15.326952",
     "exception": false,
     "start_time": "2022-01-11T11:21:14.058781",
     "status": "completed"
    },
    "tags": []
   },
   "outputs": [],
   "source": [
    "import numpy as np\n",
    "import pandas as pd\n",
    "import matplotlib.pyplot as plt\n",
    "import seaborn as sns\n",
    "%matplotlib inline"
   ]
  },
  {
   "cell_type": "markdown",
   "id": "5e32ce64",
   "metadata": {
    "papermill": {
     "duration": 0.045258,
     "end_time": "2022-01-11T11:21:15.421268",
     "exception": false,
     "start_time": "2022-01-11T11:21:15.376010",
     "status": "completed"
    },
    "tags": []
   },
   "source": [
    "# Read datasets"
   ]
  },
  {
   "cell_type": "code",
   "execution_count": 2,
   "id": "6ec15fc6",
   "metadata": {
    "execution": {
     "iopub.execute_input": "2022-01-11T11:21:15.519207Z",
     "iopub.status.busy": "2022-01-11T11:21:15.518477Z",
     "iopub.status.idle": "2022-01-11T11:21:15.546232Z",
     "shell.execute_reply": "2022-01-11T11:21:15.546803Z",
     "shell.execute_reply.started": "2022-01-11T11:00:30.977546Z"
    },
    "papermill": {
     "duration": 0.07993,
     "end_time": "2022-01-11T11:21:15.547008",
     "exception": false,
     "start_time": "2022-01-11T11:21:15.467078",
     "status": "completed"
    },
    "tags": []
   },
   "outputs": [],
   "source": [
    "train = pd.read_csv('../input/loan-prediction-problem-dataset/train_u6lujuX_CVtuZ9i.csv')\n",
    "test = pd.read_csv('../input/loan-prediction-problem-dataset/test_Y3wMUE5_7gLdaTN.csv')"
   ]
  },
  {
   "cell_type": "markdown",
   "id": "3f5d98f3",
   "metadata": {
    "papermill": {
     "duration": 0.045535,
     "end_time": "2022-01-11T11:21:15.638836",
     "exception": false,
     "start_time": "2022-01-11T11:21:15.593301",
     "status": "completed"
    },
    "tags": []
   },
   "source": [
    "Let's Make copy of the original datasets so we do not hamper the original datasets."
   ]
  },
  {
   "cell_type": "code",
   "execution_count": 3,
   "id": "dece2f10",
   "metadata": {
    "execution": {
     "iopub.execute_input": "2022-01-11T11:21:15.734589Z",
     "iopub.status.busy": "2022-01-11T11:21:15.733575Z",
     "iopub.status.idle": "2022-01-11T11:21:15.737998Z",
     "shell.execute_reply": "2022-01-11T11:21:15.738515Z",
     "shell.execute_reply.started": "2022-01-11T11:00:31.014168Z"
    },
    "papermill": {
     "duration": 0.054572,
     "end_time": "2022-01-11T11:21:15.738712",
     "exception": false,
     "start_time": "2022-01-11T11:21:15.684140",
     "status": "completed"
    },
    "tags": []
   },
   "outputs": [],
   "source": [
    "train_original = train.copy()\n",
    "test_original = test.copy()"
   ]
  },
  {
   "cell_type": "code",
   "execution_count": 4,
   "id": "6969d298",
   "metadata": {
    "execution": {
     "iopub.execute_input": "2022-01-11T11:21:15.834477Z",
     "iopub.status.busy": "2022-01-11T11:21:15.833471Z",
     "iopub.status.idle": "2022-01-11T11:21:15.864193Z",
     "shell.execute_reply": "2022-01-11T11:21:15.864695Z",
     "shell.execute_reply.started": "2022-01-11T11:00:31.021933Z"
    },
    "papermill": {
     "duration": 0.080507,
     "end_time": "2022-01-11T11:21:15.864917",
     "exception": false,
     "start_time": "2022-01-11T11:21:15.784410",
     "status": "completed"
    },
    "tags": []
   },
   "outputs": [
    {
     "data": {
      "text/html": [
       "<div>\n",
       "<style scoped>\n",
       "    .dataframe tbody tr th:only-of-type {\n",
       "        vertical-align: middle;\n",
       "    }\n",
       "\n",
       "    .dataframe tbody tr th {\n",
       "        vertical-align: top;\n",
       "    }\n",
       "\n",
       "    .dataframe thead th {\n",
       "        text-align: right;\n",
       "    }\n",
       "</style>\n",
       "<table border=\"1\" class=\"dataframe\">\n",
       "  <thead>\n",
       "    <tr style=\"text-align: right;\">\n",
       "      <th></th>\n",
       "      <th>Loan_ID</th>\n",
       "      <th>Gender</th>\n",
       "      <th>Married</th>\n",
       "      <th>Dependents</th>\n",
       "      <th>Education</th>\n",
       "      <th>Self_Employed</th>\n",
       "      <th>ApplicantIncome</th>\n",
       "      <th>CoapplicantIncome</th>\n",
       "      <th>LoanAmount</th>\n",
       "      <th>Loan_Amount_Term</th>\n",
       "      <th>Credit_History</th>\n",
       "      <th>Property_Area</th>\n",
       "      <th>Loan_Status</th>\n",
       "    </tr>\n",
       "  </thead>\n",
       "  <tbody>\n",
       "    <tr>\n",
       "      <th>0</th>\n",
       "      <td>LP001002</td>\n",
       "      <td>Male</td>\n",
       "      <td>No</td>\n",
       "      <td>0</td>\n",
       "      <td>Graduate</td>\n",
       "      <td>No</td>\n",
       "      <td>5849</td>\n",
       "      <td>0.0</td>\n",
       "      <td>NaN</td>\n",
       "      <td>360.0</td>\n",
       "      <td>1.0</td>\n",
       "      <td>Urban</td>\n",
       "      <td>Y</td>\n",
       "    </tr>\n",
       "    <tr>\n",
       "      <th>1</th>\n",
       "      <td>LP001003</td>\n",
       "      <td>Male</td>\n",
       "      <td>Yes</td>\n",
       "      <td>1</td>\n",
       "      <td>Graduate</td>\n",
       "      <td>No</td>\n",
       "      <td>4583</td>\n",
       "      <td>1508.0</td>\n",
       "      <td>128.0</td>\n",
       "      <td>360.0</td>\n",
       "      <td>1.0</td>\n",
       "      <td>Rural</td>\n",
       "      <td>N</td>\n",
       "    </tr>\n",
       "    <tr>\n",
       "      <th>2</th>\n",
       "      <td>LP001005</td>\n",
       "      <td>Male</td>\n",
       "      <td>Yes</td>\n",
       "      <td>0</td>\n",
       "      <td>Graduate</td>\n",
       "      <td>Yes</td>\n",
       "      <td>3000</td>\n",
       "      <td>0.0</td>\n",
       "      <td>66.0</td>\n",
       "      <td>360.0</td>\n",
       "      <td>1.0</td>\n",
       "      <td>Urban</td>\n",
       "      <td>Y</td>\n",
       "    </tr>\n",
       "  </tbody>\n",
       "</table>\n",
       "</div>"
      ],
      "text/plain": [
       "    Loan_ID Gender Married Dependents Education Self_Employed  \\\n",
       "0  LP001002   Male      No          0  Graduate            No   \n",
       "1  LP001003   Male     Yes          1  Graduate            No   \n",
       "2  LP001005   Male     Yes          0  Graduate           Yes   \n",
       "\n",
       "   ApplicantIncome  CoapplicantIncome  LoanAmount  Loan_Amount_Term  \\\n",
       "0             5849                0.0         NaN             360.0   \n",
       "1             4583             1508.0       128.0             360.0   \n",
       "2             3000                0.0        66.0             360.0   \n",
       "\n",
       "   Credit_History Property_Area Loan_Status  \n",
       "0             1.0         Urban           Y  \n",
       "1             1.0         Rural           N  \n",
       "2             1.0         Urban           Y  "
      ]
     },
     "execution_count": 4,
     "metadata": {},
     "output_type": "execute_result"
    }
   ],
   "source": [
    "train.head(3)"
   ]
  },
  {
   "cell_type": "code",
   "execution_count": 5,
   "id": "03534d38",
   "metadata": {
    "execution": {
     "iopub.execute_input": "2022-01-11T11:21:15.963044Z",
     "iopub.status.busy": "2022-01-11T11:21:15.962087Z",
     "iopub.status.idle": "2022-01-11T11:21:15.977575Z",
     "shell.execute_reply": "2022-01-11T11:21:15.978112Z",
     "shell.execute_reply.started": "2022-01-11T11:00:31.053520Z"
    },
    "papermill": {
     "duration": 0.066029,
     "end_time": "2022-01-11T11:21:15.978309",
     "exception": false,
     "start_time": "2022-01-11T11:21:15.912280",
     "status": "completed"
    },
    "tags": []
   },
   "outputs": [
    {
     "data": {
      "text/html": [
       "<div>\n",
       "<style scoped>\n",
       "    .dataframe tbody tr th:only-of-type {\n",
       "        vertical-align: middle;\n",
       "    }\n",
       "\n",
       "    .dataframe tbody tr th {\n",
       "        vertical-align: top;\n",
       "    }\n",
       "\n",
       "    .dataframe thead th {\n",
       "        text-align: right;\n",
       "    }\n",
       "</style>\n",
       "<table border=\"1\" class=\"dataframe\">\n",
       "  <thead>\n",
       "    <tr style=\"text-align: right;\">\n",
       "      <th></th>\n",
       "      <th>Loan_ID</th>\n",
       "      <th>Gender</th>\n",
       "      <th>Married</th>\n",
       "      <th>Dependents</th>\n",
       "      <th>Education</th>\n",
       "      <th>Self_Employed</th>\n",
       "      <th>ApplicantIncome</th>\n",
       "      <th>CoapplicantIncome</th>\n",
       "      <th>LoanAmount</th>\n",
       "      <th>Loan_Amount_Term</th>\n",
       "      <th>Credit_History</th>\n",
       "      <th>Property_Area</th>\n",
       "    </tr>\n",
       "  </thead>\n",
       "  <tbody>\n",
       "    <tr>\n",
       "      <th>0</th>\n",
       "      <td>LP001015</td>\n",
       "      <td>Male</td>\n",
       "      <td>Yes</td>\n",
       "      <td>0</td>\n",
       "      <td>Graduate</td>\n",
       "      <td>No</td>\n",
       "      <td>5720</td>\n",
       "      <td>0</td>\n",
       "      <td>110.0</td>\n",
       "      <td>360.0</td>\n",
       "      <td>1.0</td>\n",
       "      <td>Urban</td>\n",
       "    </tr>\n",
       "    <tr>\n",
       "      <th>1</th>\n",
       "      <td>LP001022</td>\n",
       "      <td>Male</td>\n",
       "      <td>Yes</td>\n",
       "      <td>1</td>\n",
       "      <td>Graduate</td>\n",
       "      <td>No</td>\n",
       "      <td>3076</td>\n",
       "      <td>1500</td>\n",
       "      <td>126.0</td>\n",
       "      <td>360.0</td>\n",
       "      <td>1.0</td>\n",
       "      <td>Urban</td>\n",
       "    </tr>\n",
       "    <tr>\n",
       "      <th>2</th>\n",
       "      <td>LP001031</td>\n",
       "      <td>Male</td>\n",
       "      <td>Yes</td>\n",
       "      <td>2</td>\n",
       "      <td>Graduate</td>\n",
       "      <td>No</td>\n",
       "      <td>5000</td>\n",
       "      <td>1800</td>\n",
       "      <td>208.0</td>\n",
       "      <td>360.0</td>\n",
       "      <td>1.0</td>\n",
       "      <td>Urban</td>\n",
       "    </tr>\n",
       "  </tbody>\n",
       "</table>\n",
       "</div>"
      ],
      "text/plain": [
       "    Loan_ID Gender Married Dependents Education Self_Employed  \\\n",
       "0  LP001015   Male     Yes          0  Graduate            No   \n",
       "1  LP001022   Male     Yes          1  Graduate            No   \n",
       "2  LP001031   Male     Yes          2  Graduate            No   \n",
       "\n",
       "   ApplicantIncome  CoapplicantIncome  LoanAmount  Loan_Amount_Term  \\\n",
       "0             5720                  0       110.0             360.0   \n",
       "1             3076               1500       126.0             360.0   \n",
       "2             5000               1800       208.0             360.0   \n",
       "\n",
       "   Credit_History Property_Area  \n",
       "0             1.0         Urban  \n",
       "1             1.0         Urban  \n",
       "2             1.0         Urban  "
      ]
     },
     "execution_count": 5,
     "metadata": {},
     "output_type": "execute_result"
    }
   ],
   "source": [
    "test.head(3)"
   ]
  },
  {
   "cell_type": "code",
   "execution_count": 6,
   "id": "106eed27",
   "metadata": {
    "execution": {
     "iopub.execute_input": "2022-01-11T11:21:16.077079Z",
     "iopub.status.busy": "2022-01-11T11:21:16.076346Z",
     "iopub.status.idle": "2022-01-11T11:21:16.103023Z",
     "shell.execute_reply": "2022-01-11T11:21:16.103516Z",
     "shell.execute_reply.started": "2022-01-11T11:00:31.069578Z"
    },
    "papermill": {
     "duration": 0.078167,
     "end_time": "2022-01-11T11:21:16.103691",
     "exception": false,
     "start_time": "2022-01-11T11:21:16.025524",
     "status": "completed"
    },
    "tags": []
   },
   "outputs": [
    {
     "name": "stdout",
     "output_type": "stream",
     "text": [
      "<class 'pandas.core.frame.DataFrame'>\n",
      "RangeIndex: 614 entries, 0 to 613\n",
      "Data columns (total 13 columns):\n",
      " #   Column             Non-Null Count  Dtype  \n",
      "---  ------             --------------  -----  \n",
      " 0   Loan_ID            614 non-null    object \n",
      " 1   Gender             601 non-null    object \n",
      " 2   Married            611 non-null    object \n",
      " 3   Dependents         599 non-null    object \n",
      " 4   Education          614 non-null    object \n",
      " 5   Self_Employed      582 non-null    object \n",
      " 6   ApplicantIncome    614 non-null    int64  \n",
      " 7   CoapplicantIncome  614 non-null    float64\n",
      " 8   LoanAmount         592 non-null    float64\n",
      " 9   Loan_Amount_Term   600 non-null    float64\n",
      " 10  Credit_History     564 non-null    float64\n",
      " 11  Property_Area      614 non-null    object \n",
      " 12  Loan_Status        614 non-null    object \n",
      "dtypes: float64(4), int64(1), object(8)\n",
      "memory usage: 62.5+ KB\n"
     ]
    }
   ],
   "source": [
    "train.info()"
   ]
  },
  {
   "cell_type": "code",
   "execution_count": 7,
   "id": "44e74cda",
   "metadata": {
    "execution": {
     "iopub.execute_input": "2022-01-11T11:21:16.205588Z",
     "iopub.status.busy": "2022-01-11T11:21:16.204874Z",
     "iopub.status.idle": "2022-01-11T11:21:16.214453Z",
     "shell.execute_reply": "2022-01-11T11:21:16.215043Z",
     "shell.execute_reply.started": "2022-01-11T11:00:31.092124Z"
    },
    "papermill": {
     "duration": 0.065104,
     "end_time": "2022-01-11T11:21:16.215215",
     "exception": false,
     "start_time": "2022-01-11T11:21:16.150111",
     "status": "completed"
    },
    "tags": []
   },
   "outputs": [
    {
     "name": "stdout",
     "output_type": "stream",
     "text": [
      "<class 'pandas.core.frame.DataFrame'>\n",
      "RangeIndex: 367 entries, 0 to 366\n",
      "Data columns (total 12 columns):\n",
      " #   Column             Non-Null Count  Dtype  \n",
      "---  ------             --------------  -----  \n",
      " 0   Loan_ID            367 non-null    object \n",
      " 1   Gender             356 non-null    object \n",
      " 2   Married            367 non-null    object \n",
      " 3   Dependents         357 non-null    object \n",
      " 4   Education          367 non-null    object \n",
      " 5   Self_Employed      344 non-null    object \n",
      " 6   ApplicantIncome    367 non-null    int64  \n",
      " 7   CoapplicantIncome  367 non-null    int64  \n",
      " 8   LoanAmount         362 non-null    float64\n",
      " 9   Loan_Amount_Term   361 non-null    float64\n",
      " 10  Credit_History     338 non-null    float64\n",
      " 11  Property_Area      367 non-null    object \n",
      "dtypes: float64(3), int64(2), object(7)\n",
      "memory usage: 34.5+ KB\n"
     ]
    }
   ],
   "source": [
    "test.info()"
   ]
  },
  {
   "cell_type": "markdown",
   "id": "c7d23604",
   "metadata": {
    "papermill": {
     "duration": 0.046299,
     "end_time": "2022-01-11T11:21:16.309114",
     "exception": false,
     "start_time": "2022-01-11T11:21:16.262815",
     "status": "completed"
    },
    "tags": []
   },
   "source": [
    "# Exploratory Data Analysis"
   ]
  },
  {
   "cell_type": "code",
   "execution_count": 8,
   "id": "fb039349",
   "metadata": {
    "execution": {
     "iopub.execute_input": "2022-01-11T11:21:16.406088Z",
     "iopub.status.busy": "2022-01-11T11:21:16.405455Z",
     "iopub.status.idle": "2022-01-11T11:21:16.413572Z",
     "shell.execute_reply": "2022-01-11T11:21:16.413037Z",
     "shell.execute_reply.started": "2022-01-11T11:00:31.107070Z"
    },
    "papermill": {
     "duration": 0.057871,
     "end_time": "2022-01-11T11:21:16.413711",
     "exception": false,
     "start_time": "2022-01-11T11:21:16.355840",
     "status": "completed"
    },
    "tags": []
   },
   "outputs": [
    {
     "data": {
      "text/plain": [
       "Y    422\n",
       "N    192\n",
       "Name: Loan_Status, dtype: int64"
      ]
     },
     "execution_count": 8,
     "metadata": {},
     "output_type": "execute_result"
    }
   ],
   "source": [
    "train['Loan_Status'].value_counts()"
   ]
  },
  {
   "cell_type": "code",
   "execution_count": 9,
   "id": "da904b3a",
   "metadata": {
    "execution": {
     "iopub.execute_input": "2022-01-11T11:21:16.516003Z",
     "iopub.status.busy": "2022-01-11T11:21:16.515330Z",
     "iopub.status.idle": "2022-01-11T11:21:16.775425Z",
     "shell.execute_reply": "2022-01-11T11:21:16.774097Z",
     "shell.execute_reply.started": "2022-01-11T11:00:31.120708Z"
    },
    "papermill": {
     "duration": 0.313982,
     "end_time": "2022-01-11T11:21:16.775619",
     "exception": false,
     "start_time": "2022-01-11T11:21:16.461637",
     "status": "completed"
    },
    "tags": []
   },
   "outputs": [
    {
     "data": {
      "text/plain": [
       "<AxesSubplot:title={'center':'Loan Status'}>"
      ]
     },
     "execution_count": 9,
     "metadata": {},
     "output_type": "execute_result"
    },
    {
     "data": {
      "image/png": "[encoded data removed]",
      "text/plain": [
       "<Figure size 720x432 with 1 Axes>"
      ]
     },
     "metadata": {
      "needs_background": "light"
     },
     "output_type": "display_data"
    }
   ],
   "source": [
    "train['Loan_Status'].value_counts().plot.bar(figsize=(10,6), title='Loan Status')"
   ]
  },
  {
   "cell_type": "markdown",
   "id": "439e2748",
   "metadata": {
    "papermill": {
     "duration": 0.048161,
     "end_time": "2022-01-11T11:21:16.873397",
     "exception": false,
     "start_time": "2022-01-11T11:21:16.825236",
     "status": "completed"
    },
    "tags": []
   },
   "source": [
    "The loan of 422(around 69%) people out of 614 was approved."
   ]
  },
  {
   "cell_type": "code",
   "execution_count": 10,
   "id": "8958e519",
   "metadata": {
    "execution": {
     "iopub.execute_input": "2022-01-11T11:21:16.976630Z",
     "iopub.status.busy": "2022-01-11T11:21:16.975619Z",
     "iopub.status.idle": "2022-01-11T11:21:17.567196Z",
     "shell.execute_reply": "2022-01-11T11:21:17.566518Z",
     "shell.execute_reply.started": "2022-01-11T11:00:31.329964Z"
    },
    "papermill": {
     "duration": 0.644375,
     "end_time": "2022-01-11T11:21:17.567376",
     "exception": false,
     "start_time": "2022-01-11T11:21:16.923001",
     "status": "completed"
    },
    "tags": []
   },
   "outputs": [
    {
     "data": {
      "text/plain": [
       "<AxesSubplot:title={'center':'Credit_History'}>"
      ]
     },
     "execution_count": 10,
     "metadata": {},
     "output_type": "execute_result"
    },
    {
     "data": {
      "image/png": "[encoded data removed]",
      "text/plain": [
       "<Figure size 1440x720 with 4 Axes>"
      ]
     },
     "metadata": {
      "needs_background": "light"
     },
     "output_type": "display_data"
    }
   ],
   "source": [
    "plt.figure(1)\n",
    "plt.subplot(221)\n",
    "train['Gender'].value_counts(normalize=True).plot.bar(figsize=(20,10), title= 'Gender')\n",
    "plt.subplot(222)\n",
    "train['Married'].value_counts(normalize=True).plot.bar(title= 'Married')\n",
    "plt.subplot(223)\n",
    "train['Self_Employed'].value_counts(normalize=True).plot.bar(title= 'Self Employed')\n",
    "plt.subplot(224)\n",
    "train['Credit_History'].value_counts(normalize=True).plot.bar(title= 'Credit_History')"
   ]
  },
  {
   "cell_type": "markdown",
   "id": "c1fe3be4",
   "metadata": {
    "papermill": {
     "duration": 0.050275,
     "end_time": "2022-01-11T11:21:17.667953",
     "exception": false,
     "start_time": "2022-01-11T11:21:17.617678",
     "status": "completed"
    },
    "tags": []
   },
   "source": [
    "* 80% applicants in the dataset are male.\n",
    "* Around 65% people are married.\n",
    "* Around 15% applicants in the dataset are self employed.\n",
    "* Around 85% applicants have repaid their debts."
   ]
  },
  {
   "cell_type": "code",
   "execution_count": 11,
   "id": "9dfb945d",
   "metadata": {
    "execution": {
     "iopub.execute_input": "2022-01-11T11:21:17.789855Z",
     "iopub.status.busy": "2022-01-11T11:21:17.789162Z",
     "iopub.status.idle": "2022-01-11T11:21:18.270531Z",
     "shell.execute_reply": "2022-01-11T11:21:18.271072Z",
     "shell.execute_reply.started": "2022-01-11T11:00:31.925880Z"
    },
    "papermill": {
     "duration": 0.553265,
     "end_time": "2022-01-11T11:21:18.271274",
     "exception": false,
     "start_time": "2022-01-11T11:21:17.718009",
     "status": "completed"
    },
    "tags": []
   },
   "outputs": [
    {
     "data": {
      "text/plain": [
       "<AxesSubplot:title={'center':'Property Area'}>"
      ]
     },
     "execution_count": 11,
     "metadata": {},
     "output_type": "execute_result"
    },
    {
     "data": {
      "image/png": "[encoded data removed]",
      "text/plain": [
       "<Figure size 1728x432 with 3 Axes>"
      ]
     },
     "metadata": {
      "needs_background": "light"
     },
     "output_type": "display_data"
    }
   ],
   "source": [
    "plt.figure(1)\n",
    "plt.subplot(131)\n",
    "train['Dependents'].value_counts(normalize=True).plot.bar(figsize=(24,6), title='Dependents')\n",
    "plt.subplot(132)\n",
    "train['Education'].value_counts(normalize=True).plot.bar(title='Education')\n",
    "plt.subplot(133)\n",
    "train['Property_Area'].value_counts(normalize=True).plot.bar(title='Property Area')"
   ]
  },
  {
   "cell_type": "markdown",
   "id": "2519e13d",
   "metadata": {
    "papermill": {
     "duration": 0.052766,
     "end_time": "2022-01-11T11:21:18.375211",
     "exception": false,
     "start_time": "2022-01-11T11:21:18.322445",
     "status": "completed"
    },
    "tags": []
   },
   "source": [
    "* Most of the applicants don't have dependents.\n",
    "* Around 80% of the applicants are graduate.\n",
    "* Most of the applicants are from Semiurban area."
   ]
  },
  {
   "cell_type": "code",
   "execution_count": 12,
   "id": "de91273e",
   "metadata": {
    "execution": {
     "iopub.execute_input": "2022-01-11T11:21:18.482259Z",
     "iopub.status.busy": "2022-01-11T11:21:18.481225Z",
     "iopub.status.idle": "2022-01-11T11:21:18.953918Z",
     "shell.execute_reply": "2022-01-11T11:21:18.954507Z",
     "shell.execute_reply.started": "2022-01-11T11:00:32.410904Z"
    },
    "papermill": {
     "duration": 0.527938,
     "end_time": "2022-01-11T11:21:18.954697",
     "exception": false,
     "start_time": "2022-01-11T11:21:18.426759",
     "status": "completed"
    },
    "tags": []
   },
   "outputs": [
    {
     "name": "stderr",
     "output_type": "stream",
     "text": [
      "/opt/conda/lib/python3.7/site-packages/seaborn/distributions.py:2619: FutureWarning: `distplot` is a deprecated function and will be removed in a future version. Please adapt your code to use either `displot` (a figure-level function with similar flexibility) or `histplot` (an axes-level function for histograms).\n",
      "  warnings.warn(msg, FutureWarning)\n"
     ]
    },
    {
     "data": {
      "text/plain": [
       "<AxesSubplot:>"
      ]
     },
     "execution_count": 12,
     "metadata": {},
     "output_type": "execute_result"
    },
    {
     "data": {
      "image/png": "[encoded data removed]",
      "text/plain": [
       "<Figure size 1152x360 with 2 Axes>"
      ]
     },
     "metadata": {
      "needs_background": "light"
     },
     "output_type": "display_data"
    }
   ],
   "source": [
    "plt.figure(1)\n",
    "plt.subplot(121)\n",
    "sns.distplot(train['ApplicantIncome'])\n",
    "plt.subplot(122)\n",
    "train['ApplicantIncome'].plot.box(figsize=(16,5))"
   ]
  },
  {
   "cell_type": "code",
   "execution_count": 13,
   "id": "5760e51f",
   "metadata": {
    "execution": {
     "iopub.execute_input": "2022-01-11T11:21:19.067008Z",
     "iopub.status.busy": "2022-01-11T11:21:19.065723Z",
     "iopub.status.idle": "2022-01-11T11:21:19.327450Z",
     "shell.execute_reply": "2022-01-11T11:21:19.326878Z",
     "shell.execute_reply.started": "2022-01-11T11:00:32.877135Z"
    },
    "papermill": {
     "duration": 0.319829,
     "end_time": "2022-01-11T11:21:19.327602",
     "exception": false,
     "start_time": "2022-01-11T11:21:19.007773",
     "status": "completed"
    },
    "tags": []
   },
   "outputs": [
    {
     "data": {
      "image/png": "[encoded data removed]",
      "text/plain": [
       "<Figure size 432x288 with 1 Axes>"
      ]
     },
     "metadata": {
      "needs_background": "light"
     },
     "output_type": "display_data"
    }
   ],
   "source": [
    "train.boxplot(column= 'ApplicantIncome', by='Education')\n",
    "plt.tight_layout()"
   ]
  },
  {
   "cell_type": "markdown",
   "id": "9e37dd3c",
   "metadata": {
    "papermill": {
     "duration": 0.053919,
     "end_time": "2022-01-11T11:21:19.437529",
     "exception": false,
     "start_time": "2022-01-11T11:21:19.383610",
     "status": "completed"
    },
    "tags": []
   },
   "source": [
    "There are higher number of graduates with very high incomes which are appearing to be outliers."
   ]
  },
  {
   "cell_type": "code",
   "execution_count": 14,
   "id": "7639fed0",
   "metadata": {
    "execution": {
     "iopub.execute_input": "2022-01-11T11:21:19.558163Z",
     "iopub.status.busy": "2022-01-11T11:21:19.554791Z",
     "iopub.status.idle": "2022-01-11T11:21:19.927197Z",
     "shell.execute_reply": "2022-01-11T11:21:19.926603Z",
     "shell.execute_reply.started": "2022-01-11T11:00:33.143494Z"
    },
    "papermill": {
     "duration": 0.435872,
     "end_time": "2022-01-11T11:21:19.927354",
     "exception": false,
     "start_time": "2022-01-11T11:21:19.491482",
     "status": "completed"
    },
    "tags": []
   },
   "outputs": [
    {
     "data": {
      "text/plain": [
       "<matplotlib.legend.Legend at 0x7faeaba55890>"
      ]
     },
     "execution_count": 14,
     "metadata": {},
     "output_type": "execute_result"
    },
    {
     "data": {
      "image/png": "[encoded data removed]",
      "text/plain": [
       "<Figure size 432x288 with 1 Axes>"
      ]
     },
     "metadata": {
      "needs_background": "light"
     },
     "output_type": "display_data"
    }
   ],
   "source": [
    "Married = pd.crosstab(train['Married'], train['Loan_Status'])\n",
    "Married.div(Married.sum(1).astype(float), axis=0).plot(kind='bar', stacked=True, figsize=(6,4))\n",
    "plt.legend(loc = 'best')"
   ]
  },
  {
   "cell_type": "code",
   "execution_count": 15,
   "id": "e4497bb3",
   "metadata": {
    "execution": {
     "iopub.execute_input": "2022-01-11T11:21:20.043182Z",
     "iopub.status.busy": "2022-01-11T11:21:20.042471Z",
     "iopub.status.idle": "2022-01-11T11:21:20.269587Z",
     "shell.execute_reply": "2022-01-11T11:21:20.269016Z",
     "shell.execute_reply.started": "2022-01-11T11:00:33.515935Z"
    },
    "papermill": {
     "duration": 0.287257,
     "end_time": "2022-01-11T11:21:20.269805",
     "exception": false,
     "start_time": "2022-01-11T11:21:19.982548",
     "status": "completed"
    },
    "tags": []
   },
   "outputs": [
    {
     "data": {
      "text/plain": [
       "<matplotlib.legend.Legend at 0x7faeabe4ba10>"
      ]
     },
     "execution_count": 15,
     "metadata": {},
     "output_type": "execute_result"
    },
    {
     "data": {
      "image/png": "[encoded data removed]",
      "text/plain": [
       "<Figure size 432x288 with 1 Axes>"
      ]
     },
     "metadata": {
      "needs_background": "light"
     },
     "output_type": "display_data"
    }
   ],
   "source": [
    "Credit_History = pd.crosstab(train['Credit_History'], train['Loan_Status'])\n",
    "Credit_History.div(Credit_History.sum(1).astype(float), axis=0).plot(kind='bar', stacked=True, figsize=(6,4))\n",
    "plt.legend(loc = 'best')"
   ]
  },
  {
   "cell_type": "code",
   "execution_count": 16,
   "id": "05c4fe95",
   "metadata": {
    "execution": {
     "iopub.execute_input": "2022-01-11T11:21:20.392528Z",
     "iopub.status.busy": "2022-01-11T11:21:20.391801Z",
     "iopub.status.idle": "2022-01-11T11:21:20.623646Z",
     "shell.execute_reply": "2022-01-11T11:21:20.624192Z",
     "shell.execute_reply.started": "2022-01-11T11:00:33.744803Z"
    },
    "papermill": {
     "duration": 0.29489,
     "end_time": "2022-01-11T11:21:20.624414",
     "exception": false,
     "start_time": "2022-01-11T11:21:20.329524",
     "status": "completed"
    },
    "tags": []
   },
   "outputs": [
    {
     "data": {
      "text/plain": [
       "<matplotlib.legend.Legend at 0x7faeab616b10>"
      ]
     },
     "execution_count": 16,
     "metadata": {},
     "output_type": "execute_result"
    },
    {
     "data": {
      "image/png": "[encoded data removed]",
      "text/plain": [
       "<Figure size 432x288 with 1 Axes>"
      ]
     },
     "metadata": {
      "needs_background": "light"
     },
     "output_type": "display_data"
    }
   ],
   "source": [
    "Property_Area = pd.crosstab(train['Property_Area'], train['Loan_Status'])\n",
    "Property_Area.div(Property_Area.sum(1).astype(float), axis=0).plot(kind='bar', stacked=True, figsize=(6,4))\n",
    "plt.legend(bbox_to_anchor=(1.05,1.0),loc='best')"
   ]
  },
  {
   "cell_type": "markdown",
   "id": "946e8f0b",
   "metadata": {
    "papermill": {
     "duration": 0.056614,
     "end_time": "2022-01-11T11:21:20.740064",
     "exception": false,
     "start_time": "2022-01-11T11:21:20.683450",
     "status": "completed"
    },
    "tags": []
   },
   "source": [
    "* Proportion of married applicants is higher for the approved loans.\n",
    "* People with credit history as 1 are more likely to get their loan approved.\n",
    "* Proportion of loans getting approved in semiurban area is higher compared to rural or urban area."
   ]
  },
  {
   "cell_type": "code",
   "execution_count": 17,
   "id": "cc1ca78d",
   "metadata": {
    "execution": {
     "iopub.execute_input": "2022-01-11T11:21:20.865602Z",
     "iopub.status.busy": "2022-01-11T11:21:20.861942Z",
     "iopub.status.idle": "2022-01-11T11:21:20.868089Z",
     "shell.execute_reply": "2022-01-11T11:21:20.868539Z",
     "shell.execute_reply.started": "2022-01-11T11:00:33.980394Z"
    },
    "papermill": {
     "duration": 0.068324,
     "end_time": "2022-01-11T11:21:20.868773",
     "exception": false,
     "start_time": "2022-01-11T11:21:20.800449",
     "status": "completed"
    },
    "tags": []
   },
   "outputs": [],
   "source": [
    "train['Total_Income'] = train['ApplicantIncome'] + train['CoapplicantIncome']"
   ]
  },
  {
   "cell_type": "code",
   "execution_count": 18,
   "id": "7b3cec4e",
   "metadata": {
    "execution": {
     "iopub.execute_input": "2022-01-11T11:21:20.989553Z",
     "iopub.status.busy": "2022-01-11T11:21:20.988555Z",
     "iopub.status.idle": "2022-01-11T11:21:20.993035Z",
     "shell.execute_reply": "2022-01-11T11:21:20.993513Z",
     "shell.execute_reply.started": "2022-01-11T11:00:33.988404Z"
    },
    "papermill": {
     "duration": 0.065751,
     "end_time": "2022-01-11T11:21:20.993768",
     "exception": false,
     "start_time": "2022-01-11T11:21:20.928017",
     "status": "completed"
    },
    "tags": []
   },
   "outputs": [],
   "source": [
    "bins = [0,2500,4000,6000,81000] \n",
    "group= ['Low', 'Average', 'High', 'Very High']"
   ]
  },
  {
   "cell_type": "code",
   "execution_count": 19,
   "id": "ceadf6e5",
   "metadata": {
    "execution": {
     "iopub.execute_input": "2022-01-11T11:21:21.111229Z",
     "iopub.status.busy": "2022-01-11T11:21:21.110558Z",
     "iopub.status.idle": "2022-01-11T11:21:21.117205Z",
     "shell.execute_reply": "2022-01-11T11:21:21.117743Z",
     "shell.execute_reply.started": "2022-01-11T11:00:33.999548Z"
    },
    "papermill": {
     "duration": 0.067524,
     "end_time": "2022-01-11T11:21:21.117922",
     "exception": false,
     "start_time": "2022-01-11T11:21:21.050398",
     "status": "completed"
    },
    "tags": []
   },
   "outputs": [],
   "source": [
    "train['Total_Income_bin'] = pd.cut(train['Total_Income'], bins, labels=group)"
   ]
  },
  {
   "cell_type": "code",
   "execution_count": 20,
   "id": "2ca6e675",
   "metadata": {
    "execution": {
     "iopub.execute_input": "2022-01-11T11:21:21.239883Z",
     "iopub.status.busy": "2022-01-11T11:21:21.234414Z",
     "iopub.status.idle": "2022-01-11T11:21:21.499845Z",
     "shell.execute_reply": "2022-01-11T11:21:21.499282Z",
     "shell.execute_reply.started": "2022-01-11T11:00:34.016160Z"
    },
    "papermill": {
     "duration": 0.325552,
     "end_time": "2022-01-11T11:21:21.499986",
     "exception": false,
     "start_time": "2022-01-11T11:21:21.174434",
     "status": "completed"
    },
    "tags": []
   },
   "outputs": [
    {
     "data": {
      "text/plain": [
       "<matplotlib.legend.Legend at 0x7faeab532d10>"
      ]
     },
     "execution_count": 20,
     "metadata": {},
     "output_type": "execute_result"
    },
    {
     "data": {
      "image/png": "[encoded data removed]",
      "text/plain": [
       "<Figure size 432x288 with 1 Axes>"
      ]
     },
     "metadata": {
      "needs_background": "light"
     },
     "output_type": "display_data"
    }
   ],
   "source": [
    "Total_Income_bin = pd.crosstab(train['Total_Income_bin'], train['Loan_Status'])\n",
    "Total_Income_bin.div(Total_Income_bin.sum(1).astype(float), axis=0).plot(kind='bar', stacked=True)\n",
    "plt.xlabel('Total Income')\n",
    "plt.ylabel('Percentage')\n",
    "plt.legend(bbox_to_anchor=(1.05,1.0),loc='best')"
   ]
  },
  {
   "cell_type": "markdown",
   "id": "1f207ef6",
   "metadata": {
    "papermill": {
     "duration": 0.057706,
     "end_time": "2022-01-11T11:21:21.615570",
     "exception": false,
     "start_time": "2022-01-11T11:21:21.557864",
     "status": "completed"
    },
    "tags": []
   },
   "source": [
    "Proportions of loan getting approvals for applicants having low Total_Income is very less compared to that of applicants with Average, High and Very High income."
   ]
  },
  {
   "cell_type": "code",
   "execution_count": 21,
   "id": "80e970d3",
   "metadata": {
    "execution": {
     "iopub.execute_input": "2022-01-11T11:21:21.736853Z",
     "iopub.status.busy": "2022-01-11T11:21:21.736166Z",
     "iopub.status.idle": "2022-01-11T11:21:21.742202Z",
     "shell.execute_reply": "2022-01-11T11:21:21.742762Z",
     "shell.execute_reply.started": "2022-01-11T11:00:34.271437Z"
    },
    "papermill": {
     "duration": 0.069493,
     "end_time": "2022-01-11T11:21:21.742950",
     "exception": false,
     "start_time": "2022-01-11T11:21:21.673457",
     "status": "completed"
    },
    "tags": []
   },
   "outputs": [],
   "source": [
    "train = train.drop(['Total_Income', 'Total_Income_bin'], axis=1)"
   ]
  },
  {
   "cell_type": "code",
   "execution_count": 22,
   "id": "a347bedf",
   "metadata": {
    "execution": {
     "iopub.execute_input": "2022-01-11T11:21:21.863560Z",
     "iopub.status.busy": "2022-01-11T11:21:21.862895Z",
     "iopub.status.idle": "2022-01-11T11:21:21.869691Z",
     "shell.execute_reply": "2022-01-11T11:21:21.870432Z",
     "shell.execute_reply.started": "2022-01-11T11:00:34.279240Z"
    },
    "papermill": {
     "duration": 0.068639,
     "end_time": "2022-01-11T11:21:21.870632",
     "exception": false,
     "start_time": "2022-01-11T11:21:21.801993",
     "status": "completed"
    },
    "tags": []
   },
   "outputs": [
    {
     "data": {
      "text/plain": [
       "Index(['Loan_ID', 'Gender', 'Married', 'Dependents', 'Education',\n",
       "       'Self_Employed', 'ApplicantIncome', 'CoapplicantIncome', 'LoanAmount',\n",
       "       'Loan_Amount_Term', 'Credit_History', 'Property_Area', 'Loan_Status'],\n",
       "      dtype='object')"
      ]
     },
     "execution_count": 22,
     "metadata": {},
     "output_type": "execute_result"
    }
   ],
   "source": [
    "train.columns"
   ]
  },
  {
   "cell_type": "code",
   "execution_count": 23,
   "id": "848b37ce",
   "metadata": {
    "execution": {
     "iopub.execute_input": "2022-01-11T11:21:21.996479Z",
     "iopub.status.busy": "2022-01-11T11:21:21.995494Z",
     "iopub.status.idle": "2022-01-11T11:21:22.004645Z",
     "shell.execute_reply": "2022-01-11T11:21:22.005230Z",
     "shell.execute_reply.started": "2022-01-11T11:00:34.292046Z"
    },
    "papermill": {
     "duration": 0.074367,
     "end_time": "2022-01-11T11:21:22.005446",
     "exception": false,
     "start_time": "2022-01-11T11:21:21.931079",
     "status": "completed"
    },
    "tags": []
   },
   "outputs": [],
   "source": [
    "train['Dependents'].replace('3+', 3, inplace=True)\n",
    "test['Dependents'].replace('3+', 3, inplace=True)\n",
    "train['Loan_Status'].replace('N', 0, inplace=True)\n",
    "train['Loan_Status'].replace('Y', 1, inplace=True)"
   ]
  },
  {
   "cell_type": "code",
   "execution_count": 24,
   "id": "487ae46d",
   "metadata": {
    "execution": {
     "iopub.execute_input": "2022-01-11T11:21:22.129020Z",
     "iopub.status.busy": "2022-01-11T11:21:22.128005Z",
     "iopub.status.idle": "2022-01-11T11:21:22.479397Z",
     "shell.execute_reply": "2022-01-11T11:21:22.478407Z",
     "shell.execute_reply.started": "2022-01-11T11:00:34.309215Z"
    },
    "papermill": {
     "duration": 0.414177,
     "end_time": "2022-01-11T11:21:22.479570",
     "exception": false,
     "start_time": "2022-01-11T11:21:22.065393",
     "status": "completed"
    },
    "tags": []
   },
   "outputs": [
    {
     "data": {
      "text/plain": [
       "<AxesSubplot:>"
      ]
     },
     "execution_count": 24,
     "metadata": {},
     "output_type": "execute_result"
    },
    {
     "data": {
      "image/png": "[encoded data removed]",
      "text/plain": [
       "<Figure size 864x432 with 2 Axes>"
      ]
     },
     "metadata": {
      "needs_background": "light"
     },
     "output_type": "display_data"
    }
   ],
   "source": [
    "plt.figure(figsize=(12,6))\n",
    "sns.heatmap(train.corr(), vmax=0.8, square=True, cmap='BuPu')"
   ]
  },
  {
   "cell_type": "markdown",
   "id": "65143b30",
   "metadata": {
    "papermill": {
     "duration": 0.059328,
     "end_time": "2022-01-11T11:21:22.599338",
     "exception": false,
     "start_time": "2022-01-11T11:21:22.540010",
     "status": "completed"
    },
    "tags": []
   },
   "source": [
    "We can see that most correlated variables are (ApplicantIncome-LoanAmount) and (Credit_History-Loan_Status). LoanAmount is also correlated with CoapplicantIncome."
   ]
  },
  {
   "cell_type": "markdown",
   "id": "e8555bc9",
   "metadata": {
    "papermill": {
     "duration": 0.060041,
     "end_time": "2022-01-11T11:21:22.719179",
     "exception": false,
     "start_time": "2022-01-11T11:21:22.659138",
     "status": "completed"
    },
    "tags": []
   },
   "source": [
    "# Data Cleaning"
   ]
  },
  {
   "cell_type": "code",
   "execution_count": 25,
   "id": "82ea7cc6",
   "metadata": {
    "execution": {
     "iopub.execute_input": "2022-01-11T11:21:22.883993Z",
     "iopub.status.busy": "2022-01-11T11:21:22.882883Z",
     "iopub.status.idle": "2022-01-11T11:21:22.891176Z",
     "shell.execute_reply": "2022-01-11T11:21:22.891833Z",
     "shell.execute_reply.started": "2022-01-11T11:00:34.629938Z"
    },
    "papermill": {
     "duration": 0.089973,
     "end_time": "2022-01-11T11:21:22.892044",
     "exception": false,
     "start_time": "2022-01-11T11:21:22.802071",
     "status": "completed"
    },
    "tags": []
   },
   "outputs": [
    {
     "data": {
      "text/plain": [
       "Loan_ID               0\n",
       "Gender               13\n",
       "Married               3\n",
       "Dependents           15\n",
       "Education             0\n",
       "Self_Employed        32\n",
       "ApplicantIncome       0\n",
       "CoapplicantIncome     0\n",
       "LoanAmount           22\n",
       "Loan_Amount_Term     14\n",
       "Credit_History       50\n",
       "Property_Area         0\n",
       "Loan_Status           0\n",
       "dtype: int64"
      ]
     },
     "execution_count": 25,
     "metadata": {},
     "output_type": "execute_result"
    }
   ],
   "source": [
    "train.isnull().sum()"
   ]
  },
  {
   "cell_type": "markdown",
   "id": "d53f2b9c",
   "metadata": {
    "papermill": {
     "duration": 0.060726,
     "end_time": "2022-01-11T11:21:23.013775",
     "exception": false,
     "start_time": "2022-01-11T11:21:22.953049",
     "status": "completed"
    },
    "tags": []
   },
   "source": [
    "We impute missing values with mean, mode, median."
   ]
  },
  {
   "cell_type": "code",
   "execution_count": 26,
   "id": "f6c643e7",
   "metadata": {
    "execution": {
     "iopub.execute_input": "2022-01-11T11:21:23.139546Z",
     "iopub.status.busy": "2022-01-11T11:21:23.138542Z",
     "iopub.status.idle": "2022-01-11T11:21:23.151822Z",
     "shell.execute_reply": "2022-01-11T11:21:23.152345Z",
     "shell.execute_reply.started": "2022-01-11T11:00:34.641788Z"
    },
    "papermill": {
     "duration": 0.077341,
     "end_time": "2022-01-11T11:21:23.152545",
     "exception": false,
     "start_time": "2022-01-11T11:21:23.075204",
     "status": "completed"
    },
    "tags": []
   },
   "outputs": [],
   "source": [
    "train['Gender'].fillna(train['Gender'].mode()[0], inplace=True)\n",
    "train['Married'].fillna(train['Married'].mode()[0], inplace=True)\n",
    "train['Dependents'].fillna(train['Dependents'].mode()[0], inplace=True)\n",
    "train['Self_Employed'].fillna(train['Dependents'].mode()[0], inplace=True)\n",
    "train['Credit_History'].fillna(train['Credit_History'].mode()[0], inplace=True)\n",
    "train['Loan_Amount_Term'].fillna(train['Loan_Amount_Term'].mode()[0], inplace=True)\n",
    "train['LoanAmount'].fillna(train['LoanAmount'].median(), inplace=True)"
   ]
  },
  {
   "cell_type": "code",
   "execution_count": 27,
   "id": "3957ed0d",
   "metadata": {
    "execution": {
     "iopub.execute_input": "2022-01-11T11:21:23.279648Z",
     "iopub.status.busy": "2022-01-11T11:21:23.278584Z",
     "iopub.status.idle": "2022-01-11T11:21:23.288489Z",
     "shell.execute_reply": "2022-01-11T11:21:23.289015Z",
     "shell.execute_reply.started": "2022-01-11T11:00:34.658986Z"
    },
    "papermill": {
     "duration": 0.075612,
     "end_time": "2022-01-11T11:21:23.289212",
     "exception": false,
     "start_time": "2022-01-11T11:21:23.213600",
     "status": "completed"
    },
    "tags": []
   },
   "outputs": [
    {
     "data": {
      "text/plain": [
       "Loan_ID              0\n",
       "Gender               0\n",
       "Married              0\n",
       "Dependents           0\n",
       "Education            0\n",
       "Self_Employed        0\n",
       "ApplicantIncome      0\n",
       "CoapplicantIncome    0\n",
       "LoanAmount           0\n",
       "Loan_Amount_Term     0\n",
       "Credit_History       0\n",
       "Property_Area        0\n",
       "Loan_Status          0\n",
       "dtype: int64"
      ]
     },
     "execution_count": 27,
     "metadata": {},
     "output_type": "execute_result"
    }
   ],
   "source": [
    "train.isnull().sum()"
   ]
  },
  {
   "cell_type": "code",
   "execution_count": 28,
   "id": "79d4d129",
   "metadata": {
    "execution": {
     "iopub.execute_input": "2022-01-11T11:21:23.413859Z",
     "iopub.status.busy": "2022-01-11T11:21:23.412843Z",
     "iopub.status.idle": "2022-01-11T11:21:23.422259Z",
     "shell.execute_reply": "2022-01-11T11:21:23.422839Z",
     "shell.execute_reply.started": "2022-01-11T11:00:34.675726Z"
    },
    "papermill": {
     "duration": 0.073733,
     "end_time": "2022-01-11T11:21:23.423036",
     "exception": false,
     "start_time": "2022-01-11T11:21:23.349303",
     "status": "completed"
    },
    "tags": []
   },
   "outputs": [
    {
     "data": {
      "text/plain": [
       "Loan_ID               0\n",
       "Gender               11\n",
       "Married               0\n",
       "Dependents           10\n",
       "Education             0\n",
       "Self_Employed        23\n",
       "ApplicantIncome       0\n",
       "CoapplicantIncome     0\n",
       "LoanAmount            5\n",
       "Loan_Amount_Term      6\n",
       "Credit_History       29\n",
       "Property_Area         0\n",
       "dtype: int64"
      ]
     },
     "execution_count": 28,
     "metadata": {},
     "output_type": "execute_result"
    }
   ],
   "source": [
    "test.isnull().sum()"
   ]
  },
  {
   "cell_type": "code",
   "execution_count": 29,
   "id": "2d494fda",
   "metadata": {
    "execution": {
     "iopub.execute_input": "2022-01-11T11:21:23.548692Z",
     "iopub.status.busy": "2022-01-11T11:21:23.547671Z",
     "iopub.status.idle": "2022-01-11T11:21:23.560337Z",
     "shell.execute_reply": "2022-01-11T11:21:23.560889Z",
     "shell.execute_reply.started": "2022-01-11T11:00:34.684937Z"
    },
    "papermill": {
     "duration": 0.077491,
     "end_time": "2022-01-11T11:21:23.561093",
     "exception": false,
     "start_time": "2022-01-11T11:21:23.483602",
     "status": "completed"
    },
    "tags": []
   },
   "outputs": [],
   "source": [
    "test['Gender'].fillna(test['Gender'].mode()[0], inplace=True)\n",
    "test['Married'].fillna(test['Married'].mode()[0], inplace=True)\n",
    "test['Dependents'].fillna(test['Dependents'].mode()[0], inplace=True)\n",
    "test['Self_Employed'].fillna(test['Dependents'].mode()[0], inplace=True)\n",
    "test['Credit_History'].fillna(test['Credit_History'].mode()[0], inplace=True)\n",
    "test['Loan_Amount_Term'].fillna(test['Loan_Amount_Term'].mode()[0], inplace=True)\n",
    "test['LoanAmount'].fillna(test['LoanAmount'].median(), inplace=True)"
   ]
  },
  {
   "cell_type": "code",
   "execution_count": 30,
   "id": "3d143e63",
   "metadata": {
    "execution": {
     "iopub.execute_input": "2022-01-11T11:21:23.693456Z",
     "iopub.status.busy": "2022-01-11T11:21:23.692512Z",
     "iopub.status.idle": "2022-01-11T11:21:23.695929Z",
     "shell.execute_reply": "2022-01-11T11:21:23.696423Z",
     "shell.execute_reply.started": "2022-01-11T11:00:34.700226Z"
    },
    "papermill": {
     "duration": 0.074681,
     "end_time": "2022-01-11T11:21:23.696625",
     "exception": false,
     "start_time": "2022-01-11T11:21:23.621944",
     "status": "completed"
    },
    "tags": []
   },
   "outputs": [
    {
     "data": {
      "text/plain": [
       "Loan_ID              0\n",
       "Gender               0\n",
       "Married              0\n",
       "Dependents           0\n",
       "Education            0\n",
       "Self_Employed        0\n",
       "ApplicantIncome      0\n",
       "CoapplicantIncome    0\n",
       "LoanAmount           0\n",
       "Loan_Amount_Term     0\n",
       "Credit_History       0\n",
       "Property_Area        0\n",
       "dtype: int64"
      ]
     },
     "execution_count": 30,
     "metadata": {},
     "output_type": "execute_result"
    }
   ],
   "source": [
    "test.isnull().sum()"
   ]
  },
  {
   "cell_type": "markdown",
   "id": "e296264f",
   "metadata": {
    "papermill": {
     "duration": 0.062522,
     "end_time": "2022-01-11T11:21:23.822132",
     "exception": false,
     "start_time": "2022-01-11T11:21:23.759610",
     "status": "completed"
    },
    "tags": []
   },
   "source": [
    "# Model Building"
   ]
  },
  {
   "cell_type": "code",
   "execution_count": 31,
   "id": "37fec4b2",
   "metadata": {
    "execution": {
     "iopub.execute_input": "2022-01-11T11:21:23.955237Z",
     "iopub.status.busy": "2022-01-11T11:21:23.954119Z",
     "iopub.status.idle": "2022-01-11T11:21:23.959041Z",
     "shell.execute_reply": "2022-01-11T11:21:23.959677Z",
     "shell.execute_reply.started": "2022-01-11T11:00:34.716068Z"
    },
    "papermill": {
     "duration": 0.075491,
     "end_time": "2022-01-11T11:21:23.959971",
     "exception": false,
     "start_time": "2022-01-11T11:21:23.884480",
     "status": "completed"
    },
    "tags": []
   },
   "outputs": [
    {
     "name": "stderr",
     "output_type": "stream",
     "text": [
      "/opt/conda/lib/python3.7/site-packages/ipykernel_launcher.py:1: FutureWarning: In a future version of pandas all arguments of DataFrame.drop except for the argument 'labels' will be keyword-only\n",
      "  \"\"\"Entry point for launching an IPython kernel.\n"
     ]
    }
   ],
   "source": [
    "X = train.drop('Loan_Status', 1)\n",
    "y = train['Loan_Status']"
   ]
  },
  {
   "cell_type": "code",
   "execution_count": 32,
   "id": "2e407c6e",
   "metadata": {
    "execution": {
     "iopub.execute_input": "2022-01-11T11:21:24.093806Z",
     "iopub.status.busy": "2022-01-11T11:21:24.092713Z",
     "iopub.status.idle": "2022-01-11T11:21:24.131910Z",
     "shell.execute_reply": "2022-01-11T11:21:24.131216Z",
     "shell.execute_reply.started": "2022-01-11T11:00:34.725125Z"
    },
    "papermill": {
     "duration": 0.107224,
     "end_time": "2022-01-11T11:21:24.132092",
     "exception": false,
     "start_time": "2022-01-11T11:21:24.024868",
     "status": "completed"
    },
    "tags": []
   },
   "outputs": [],
   "source": [
    "X = pd.get_dummies(X)\n",
    "train = pd.get_dummies(train)\n",
    "test = pd.get_dummies(test)"
   ]
  },
  {
   "cell_type": "code",
   "execution_count": 33,
   "id": "900480e8",
   "metadata": {
    "execution": {
     "iopub.execute_input": "2022-01-11T11:21:24.263568Z",
     "iopub.status.busy": "2022-01-11T11:21:24.262685Z",
     "iopub.status.idle": "2022-01-11T11:21:24.450244Z",
     "shell.execute_reply": "2022-01-11T11:21:24.449626Z",
     "shell.execute_reply.started": "2022-01-11T11:00:34.765588Z"
    },
    "papermill": {
     "duration": 0.2552,
     "end_time": "2022-01-11T11:21:24.450453",
     "exception": false,
     "start_time": "2022-01-11T11:21:24.195253",
     "status": "completed"
    },
    "tags": []
   },
   "outputs": [],
   "source": [
    "from sklearn.model_selection import train_test_split"
   ]
  },
  {
   "cell_type": "code",
   "execution_count": 34,
   "id": "149853bb",
   "metadata": {
    "execution": {
     "iopub.execute_input": "2022-01-11T11:21:24.582676Z",
     "iopub.status.busy": "2022-01-11T11:21:24.581583Z",
     "iopub.status.idle": "2022-01-11T11:21:24.587151Z",
     "shell.execute_reply": "2022-01-11T11:21:24.587638Z",
     "shell.execute_reply.started": "2022-01-11T11:00:34.942058Z"
    },
    "papermill": {
     "duration": 0.075292,
     "end_time": "2022-01-11T11:21:24.587858",
     "exception": false,
     "start_time": "2022-01-11T11:21:24.512566",
     "status": "completed"
    },
    "tags": []
   },
   "outputs": [],
   "source": [
    "X_train, X_cv, y_train, y_cv = train_test_split(X, y, test_size=0.3)"
   ]
  },
  {
   "cell_type": "code",
   "execution_count": 35,
   "id": "863002a9",
   "metadata": {
    "execution": {
     "iopub.execute_input": "2022-01-11T11:21:24.715318Z",
     "iopub.status.busy": "2022-01-11T11:21:24.714620Z",
     "iopub.status.idle": "2022-01-11T11:21:24.892899Z",
     "shell.execute_reply": "2022-01-11T11:21:24.892228Z",
     "shell.execute_reply.started": "2022-01-11T11:00:34.954432Z"
    },
    "papermill": {
     "duration": 0.24389,
     "end_time": "2022-01-11T11:21:24.893063",
     "exception": false,
     "start_time": "2022-01-11T11:21:24.649173",
     "status": "completed"
    },
    "tags": []
   },
   "outputs": [],
   "source": [
    "from sklearn.tree import DecisionTreeClassifier"
   ]
  },
  {
   "cell_type": "code",
   "execution_count": 36,
   "id": "926e083d",
   "metadata": {
    "execution": {
     "iopub.execute_input": "2022-01-11T11:21:25.022120Z",
     "iopub.status.busy": "2022-01-11T11:21:25.021171Z",
     "iopub.status.idle": "2022-01-11T11:21:25.024033Z",
     "shell.execute_reply": "2022-01-11T11:21:25.023462Z",
     "shell.execute_reply.started": "2022-01-11T11:00:35.127618Z"
    },
    "papermill": {
     "duration": 0.069513,
     "end_time": "2022-01-11T11:21:25.024189",
     "exception": false,
     "start_time": "2022-01-11T11:21:24.954676",
     "status": "completed"
    },
    "tags": []
   },
   "outputs": [],
   "source": [
    "model = DecisionTreeClassifier(random_state=1)"
   ]
  },
  {
   "cell_type": "code",
   "execution_count": 37,
   "id": "3664a916",
   "metadata": {
    "execution": {
     "iopub.execute_input": "2022-01-11T11:21:25.150788Z",
     "iopub.status.busy": "2022-01-11T11:21:25.150087Z",
     "iopub.status.idle": "2022-01-11T11:21:25.180685Z",
     "shell.execute_reply": "2022-01-11T11:21:25.181284Z",
     "shell.execute_reply.started": "2022-01-11T11:00:35.133245Z"
    },
    "papermill": {
     "duration": 0.09616,
     "end_time": "2022-01-11T11:21:25.181515",
     "exception": false,
     "start_time": "2022-01-11T11:21:25.085355",
     "status": "completed"
    },
    "tags": []
   },
   "outputs": [
    {
     "data": {
      "text/plain": [
       "DecisionTreeClassifier(random_state=1)"
      ]
     },
     "execution_count": 37,
     "metadata": {},
     "output_type": "execute_result"
    }
   ],
   "source": [
    "model.fit(X_train,y_train)"
   ]
  },
  {
   "cell_type": "code",
   "execution_count": 38,
   "id": "6af674f9",
   "metadata": {
    "execution": {
     "iopub.execute_input": "2022-01-11T11:21:25.310089Z",
     "iopub.status.busy": "2022-01-11T11:21:25.309370Z",
     "iopub.status.idle": "2022-01-11T11:21:25.320316Z",
     "shell.execute_reply": "2022-01-11T11:21:25.320878Z",
     "shell.execute_reply.started": "2022-01-11T11:00:35.171997Z"
    },
    "papermill": {
     "duration": 0.076928,
     "end_time": "2022-01-11T11:21:25.321089",
     "exception": false,
     "start_time": "2022-01-11T11:21:25.244161",
     "status": "completed"
    },
    "tags": []
   },
   "outputs": [],
   "source": [
    "predictions = model.predict(X_cv)"
   ]
  },
  {
   "cell_type": "code",
   "execution_count": 39,
   "id": "ff037636",
   "metadata": {
    "execution": {
     "iopub.execute_input": "2022-01-11T11:21:25.449233Z",
     "iopub.status.busy": "2022-01-11T11:21:25.448587Z",
     "iopub.status.idle": "2022-01-11T11:21:25.452557Z",
     "shell.execute_reply": "2022-01-11T11:21:25.453092Z",
     "shell.execute_reply.started": "2022-01-11T11:00:35.185021Z"
    },
    "papermill": {
     "duration": 0.070218,
     "end_time": "2022-01-11T11:21:25.453293",
     "exception": false,
     "start_time": "2022-01-11T11:21:25.383075",
     "status": "completed"
    },
    "tags": []
   },
   "outputs": [],
   "source": [
    "from sklearn.metrics import accuracy_score, classification_report"
   ]
  },
  {
   "cell_type": "code",
   "execution_count": 40,
   "id": "ff06e576",
   "metadata": {
    "execution": {
     "iopub.execute_input": "2022-01-11T11:21:25.584366Z",
     "iopub.status.busy": "2022-01-11T11:21:25.583668Z",
     "iopub.status.idle": "2022-01-11T11:21:25.593695Z",
     "shell.execute_reply": "2022-01-11T11:21:25.593148Z",
     "shell.execute_reply.started": "2022-01-11T11:00:35.189941Z"
    },
    "papermill": {
     "duration": 0.076196,
     "end_time": "2022-01-11T11:21:25.593876",
     "exception": false,
     "start_time": "2022-01-11T11:21:25.517680",
     "status": "completed"
    },
    "tags": []
   },
   "outputs": [
    {
     "name": "stdout",
     "output_type": "stream",
     "text": [
      "              precision    recall  f1-score   support\n",
      "\n",
      "           0       0.79      0.47      0.59        66\n",
      "           1       0.76      0.93      0.84       119\n",
      "\n",
      "    accuracy                           0.77       185\n",
      "   macro avg       0.78      0.70      0.71       185\n",
      "weighted avg       0.77      0.77      0.75       185\n",
      "\n"
     ]
    }
   ],
   "source": [
    "print(classification_report(y_cv, predictions))"
   ]
  },
  {
   "cell_type": "code",
   "execution_count": 41,
   "id": "c9214d8e",
   "metadata": {
    "execution": {
     "iopub.execute_input": "2022-01-11T11:21:25.723302Z",
     "iopub.status.busy": "2022-01-11T11:21:25.722580Z",
     "iopub.status.idle": "2022-01-11T11:21:25.729115Z",
     "shell.execute_reply": "2022-01-11T11:21:25.728544Z",
     "shell.execute_reply.started": "2022-01-11T11:00:35.207771Z"
    },
    "papermill": {
     "duration": 0.072486,
     "end_time": "2022-01-11T11:21:25.729272",
     "exception": false,
     "start_time": "2022-01-11T11:21:25.656786",
     "status": "completed"
    },
    "tags": []
   },
   "outputs": [
    {
     "name": "stdout",
     "output_type": "stream",
     "text": [
      "0.7675675675675676\n"
     ]
    }
   ],
   "source": [
    "print(accuracy_score(y_cv, predictions))"
   ]
  },
  {
   "cell_type": "code",
   "execution_count": 42,
   "id": "c0ec0100",
   "metadata": {
    "execution": {
     "iopub.execute_input": "2022-01-11T11:21:25.865398Z",
     "iopub.status.busy": "2022-01-11T11:21:25.864725Z",
     "iopub.status.idle": "2022-01-11T11:21:25.895257Z",
     "shell.execute_reply": "2022-01-11T11:21:25.895784Z",
     "shell.execute_reply.started": "2022-01-11T11:00:35.214713Z"
    },
    "papermill": {
     "duration": 0.098167,
     "end_time": "2022-01-11T11:21:25.896019",
     "exception": false,
     "start_time": "2022-01-11T11:21:25.797852",
     "status": "completed"
    },
    "tags": []
   },
   "outputs": [],
   "source": [
    "from sklearn.ensemble import RandomForestClassifier"
   ]
  },
  {
   "cell_type": "code",
   "execution_count": 43,
   "id": "c481d5b8",
   "metadata": {
    "execution": {
     "iopub.execute_input": "2022-01-11T11:21:26.025441Z",
     "iopub.status.busy": "2022-01-11T11:21:26.024785Z",
     "iopub.status.idle": "2022-01-11T11:21:26.027803Z",
     "shell.execute_reply": "2022-01-11T11:21:26.028264Z",
     "shell.execute_reply.started": "2022-01-11T11:00:35.253877Z"
    },
    "papermill": {
     "duration": 0.069086,
     "end_time": "2022-01-11T11:21:26.028459",
     "exception": false,
     "start_time": "2022-01-11T11:21:25.959373",
     "status": "completed"
    },
    "tags": []
   },
   "outputs": [],
   "source": [
    "rfmodel = RandomForestClassifier(n_estimators=500)"
   ]
  },
  {
   "cell_type": "code",
   "execution_count": 44,
   "id": "62775167",
   "metadata": {
    "execution": {
     "iopub.execute_input": "2022-01-11T11:21:26.158025Z",
     "iopub.status.busy": "2022-01-11T11:21:26.157351Z",
     "iopub.status.idle": "2022-01-11T11:21:27.594175Z",
     "shell.execute_reply": "2022-01-11T11:21:27.593595Z",
     "shell.execute_reply.started": "2022-01-11T11:00:35.258775Z"
    },
    "papermill": {
     "duration": 1.502071,
     "end_time": "2022-01-11T11:21:27.594330",
     "exception": false,
     "start_time": "2022-01-11T11:21:26.092259",
     "status": "completed"
    },
    "tags": []
   },
   "outputs": [
    {
     "data": {
      "text/plain": [
       "RandomForestClassifier(n_estimators=500)"
      ]
     },
     "execution_count": 44,
     "metadata": {},
     "output_type": "execute_result"
    }
   ],
   "source": [
    "rfmodel.fit(X_train, y_train)"
   ]
  },
  {
   "cell_type": "code",
   "execution_count": 45,
   "id": "25201a32",
   "metadata": {
    "execution": {
     "iopub.execute_input": "2022-01-11T11:21:27.725829Z",
     "iopub.status.busy": "2022-01-11T11:21:27.725166Z",
     "iopub.status.idle": "2022-01-11T11:21:27.801626Z",
     "shell.execute_reply": "2022-01-11T11:21:27.800944Z",
     "shell.execute_reply.started": "2022-01-11T11:00:36.668881Z"
    },
    "papermill": {
     "duration": 0.145156,
     "end_time": "2022-01-11T11:21:27.801787",
     "exception": false,
     "start_time": "2022-01-11T11:21:27.656631",
     "status": "completed"
    },
    "tags": []
   },
   "outputs": [],
   "source": [
    "rfpredictions = rfmodel.predict(X_cv)"
   ]
  },
  {
   "cell_type": "code",
   "execution_count": 46,
   "id": "39f2fbaf",
   "metadata": {
    "execution": {
     "iopub.execute_input": "2022-01-11T11:21:27.932955Z",
     "iopub.status.busy": "2022-01-11T11:21:27.932135Z",
     "iopub.status.idle": "2022-01-11T11:21:27.935276Z",
     "shell.execute_reply": "2022-01-11T11:21:27.935795Z",
     "shell.execute_reply.started": "2022-01-11T11:00:36.748605Z"
    },
    "papermill": {
     "duration": 0.07205,
     "end_time": "2022-01-11T11:21:27.935969",
     "exception": false,
     "start_time": "2022-01-11T11:21:27.863919",
     "status": "completed"
    },
    "tags": []
   },
   "outputs": [
    {
     "name": "stdout",
     "output_type": "stream",
     "text": [
      "0.772972972972973\n"
     ]
    }
   ],
   "source": [
    "print(accuracy_score(y_cv, rfpredictions))"
   ]
  },
  {
   "cell_type": "code",
   "execution_count": 47,
   "id": "001450c3",
   "metadata": {
    "execution": {
     "iopub.execute_input": "2022-01-11T11:21:28.066074Z",
     "iopub.status.busy": "2022-01-11T11:21:28.065124Z",
     "iopub.status.idle": "2022-01-11T11:21:28.075500Z",
     "shell.execute_reply": "2022-01-11T11:21:28.076137Z",
     "shell.execute_reply.started": "2022-01-11T11:00:36.755934Z"
    },
    "papermill": {
     "duration": 0.077442,
     "end_time": "2022-01-11T11:21:28.076358",
     "exception": false,
     "start_time": "2022-01-11T11:21:27.998916",
     "status": "completed"
    },
    "tags": []
   },
   "outputs": [
    {
     "name": "stdout",
     "output_type": "stream",
     "text": [
      "              precision    recall  f1-score   support\n",
      "\n",
      "           0       0.93      0.39      0.55        66\n",
      "           1       0.75      0.98      0.85       119\n",
      "\n",
      "    accuracy                           0.77       185\n",
      "   macro avg       0.84      0.69      0.70       185\n",
      "weighted avg       0.81      0.77      0.74       185\n",
      "\n"
     ]
    }
   ],
   "source": [
    "print(classification_report(y_cv, rfpredictions))"
   ]
  },
  {
   "cell_type": "markdown",
   "id": "47168f81",
   "metadata": {
    "papermill": {
     "duration": 0.063802,
     "end_time": "2022-01-11T11:21:28.207002",
     "exception": false,
     "start_time": "2022-01-11T11:21:28.143200",
     "status": "completed"
    },
    "tags": []
   },
   "source": [
    "# Thank You!"
   ]
  }
 ],
 "metadata": {
  "kernelspec": {
   "display_name": "Python 3",
   "language": "python",
   "name": "python3"
  },
  "language_info": {
   "codemirror_mode": {
    "name": "ipython",
    "version": 3
   },
   "file_extension": ".py",
   "mimetype": "text/x-python",
   "name": "python",
   "nbconvert_exporter": "python",
   "pygments_lexer": "ipython3",
   "version": "3.7.12"
  },
  "papermill": {
   "default_parameters": {},
   "duration": 26.50593,
   "end_time": "2022-01-11T11:21:29.384081",
   "environment_variables": {},
   "exception": null,
   "input_path": "__notebook__.ipynb",
   "output_path": "__notebook__.ipynb",
   "parameters": {},
   "start_time": "2022-01-11T11:21:02.878151",
   "version": "2.3.3"
  }
 },
 "nbformat": 4,
 "nbformat_minor": 5
}
